{
 "cells": [
  {
   "cell_type": "markdown",
   "id": "1045606e",
   "metadata": {},
   "source": [
    "# Assignment 1\n",
    "\n",
    "## By: Pranali Karande\n",
    "## Student ID: 200533569"
   ]
  },
  {
   "cell_type": "markdown",
   "id": "9aaef468",
   "metadata": {},
   "source": [
    "### Question 1 What data type is each of the following (evaluate when necessary):"
   ]
  },
  {
   "cell_type": "code",
   "execution_count": 14,
   "id": "bfe9af31",
   "metadata": {},
   "outputs": [
    {
     "data": {
      "text/plain": [
       "int"
      ]
     },
     "execution_count": 14,
     "metadata": {},
     "output_type": "execute_result"
    }
   ],
   "source": [
    "#1\n",
    "a = 5\n",
    "type(a)\n"
   ]
  },
  {
   "cell_type": "code",
   "execution_count": 15,
   "id": "ac8e7f63",
   "metadata": {},
   "outputs": [
    {
     "data": {
      "text/plain": [
       "float"
      ]
     },
     "execution_count": 15,
     "metadata": {},
     "output_type": "execute_result"
    }
   ],
   "source": [
    "#2\n",
    "b= 5.0\n",
    "type(b)"
   ]
  },
  {
   "cell_type": "code",
   "execution_count": 16,
   "id": "33cfc9fd",
   "metadata": {},
   "outputs": [
    {
     "data": {
      "text/plain": [
       "bool"
      ]
     },
     "execution_count": 16,
     "metadata": {},
     "output_type": "execute_result"
    }
   ],
   "source": [
    "#3\n",
    "c= 5>1\n",
    "type(c)"
   ]
  },
  {
   "cell_type": "code",
   "execution_count": 17,
   "id": "532916aa",
   "metadata": {},
   "outputs": [
    {
     "data": {
      "text/plain": [
       "str"
      ]
     },
     "execution_count": 17,
     "metadata": {},
     "output_type": "execute_result"
    }
   ],
   "source": [
    "#4\n",
    "d= '5'\n",
    "type(d)"
   ]
  },
  {
   "cell_type": "code",
   "execution_count": 18,
   "id": "c109e2e5",
   "metadata": {},
   "outputs": [
    {
     "name": "stdout",
     "output_type": "stream",
     "text": [
      "10\n"
     ]
    },
    {
     "data": {
      "text/plain": [
       "int"
      ]
     },
     "execution_count": 18,
     "metadata": {},
     "output_type": "execute_result"
    }
   ],
   "source": [
    "#5\n",
    "e= 5 * 2\n",
    "print(e)\n",
    "type(e)"
   ]
  },
  {
   "cell_type": "code",
   "execution_count": 19,
   "id": "0f03f2ff",
   "metadata": {},
   "outputs": [
    {
     "name": "stdout",
     "output_type": "stream",
     "text": [
      "55\n"
     ]
    },
    {
     "data": {
      "text/plain": [
       "str"
      ]
     },
     "execution_count": 19,
     "metadata": {},
     "output_type": "execute_result"
    }
   ],
   "source": [
    "#6\n",
    "f= '5' * 2\n",
    "print(f)\n",
    "type(f)"
   ]
  },
  {
   "cell_type": "code",
   "execution_count": 20,
   "id": "abf26369",
   "metadata": {},
   "outputs": [
    {
     "name": "stdout",
     "output_type": "stream",
     "text": [
      "52\n"
     ]
    },
    {
     "data": {
      "text/plain": [
       "str"
      ]
     },
     "execution_count": 20,
     "metadata": {},
     "output_type": "execute_result"
    }
   ],
   "source": [
    "#7\n",
    "g = '5' + '2'\n",
    "print(g)\n",
    "type(g)"
   ]
  },
  {
   "cell_type": "code",
   "execution_count": 21,
   "id": "dbc94752",
   "metadata": {},
   "outputs": [
    {
     "name": "stdout",
     "output_type": "stream",
     "text": [
      "2.5\n"
     ]
    },
    {
     "data": {
      "text/plain": [
       "float"
      ]
     },
     "execution_count": 21,
     "metadata": {},
     "output_type": "execute_result"
    }
   ],
   "source": [
    "#8\n",
    "h= 5 / 2\n",
    "print(h)\n",
    "type(h)"
   ]
  },
  {
   "cell_type": "code",
   "execution_count": 22,
   "id": "e0bea773",
   "metadata": {},
   "outputs": [
    {
     "name": "stdout",
     "output_type": "stream",
     "text": [
      "1\n"
     ]
    },
    {
     "data": {
      "text/plain": [
       "int"
      ]
     },
     "execution_count": 22,
     "metadata": {},
     "output_type": "execute_result"
    }
   ],
   "source": [
    "#9\n",
    "i= 5 % 2\n",
    "print(i)\n",
    "type(i)"
   ]
  },
  {
   "cell_type": "code",
   "execution_count": 23,
   "id": "607f474a",
   "metadata": {},
   "outputs": [
    {
     "data": {
      "text/plain": [
       "set"
      ]
     },
     "execution_count": 23,
     "metadata": {},
     "output_type": "execute_result"
    }
   ],
   "source": [
    "#10\n",
    "j= {5, 2, 1}\n",
    "type(j)"
   ]
  },
  {
   "cell_type": "code",
   "execution_count": 24,
   "id": "9e999791",
   "metadata": {},
   "outputs": [
    {
     "data": {
      "text/plain": [
       "bool"
      ]
     },
     "execution_count": 24,
     "metadata": {},
     "output_type": "execute_result"
    }
   ],
   "source": [
    "#11\n",
    "k= 5 == 3\n",
    "type(k)\n"
   ]
  },
  {
   "cell_type": "code",
   "execution_count": 25,
   "id": "f988b713",
   "metadata": {},
   "outputs": [
    {
     "data": {
      "text/plain": [
       "float"
      ]
     },
     "execution_count": 25,
     "metadata": {},
     "output_type": "execute_result"
    }
   ],
   "source": [
    "#12\n",
    "l= 3.142\n",
    "type(l)"
   ]
  },
  {
   "cell_type": "markdown",
   "id": "4f78e7ce",
   "metadata": {},
   "source": [
    "## Question 2 : Write and evaluate the python expressions that answer these questions:"
   ]
  },
  {
   "cell_type": "code",
   "execution_count": 26,
   "id": "29d5f4b2",
   "metadata": {},
   "outputs": [
    {
     "data": {
      "text/plain": [
       "34"
      ]
     },
     "execution_count": 26,
     "metadata": {},
     "output_type": "execute_result"
    }
   ],
   "source": [
    "#a. How many letters are there in 'Supercalifragilisticexpialidocious'?\n",
    "\n",
    "a= len('Supercalifragilisticexpialidocious')\n",
    "a"
   ]
  },
  {
   "cell_type": "code",
   "execution_count": 27,
   "id": "1b898cc4",
   "metadata": {},
   "outputs": [
    {
     "name": "stdout",
     "output_type": "stream",
     "text": [
      "Yes, the word contains ice as a substring\n"
     ]
    }
   ],
   "source": [
    "#b. Does 'Supercalifragilisticexpialidocious' contain 'ice' as a substring? \n",
    "\n",
    "b= 'Supercalifragilisticexpialidocious'\n",
    "subs= 'ice'\n",
    "if subs in b:\n",
    "    print('Yes, the word contains ice as a substring')\n",
    "else:\n",
    "    print('No, the word does not contain ice as a substring')"
   ]
  },
  {
   "cell_type": "code",
   "execution_count": 28,
   "id": "5f69749f",
   "metadata": {},
   "outputs": [
    {
     "name": "stdout",
     "output_type": "stream",
     "text": [
      "Supercalifragilisticexpialidocious is the longest word\n"
     ]
    }
   ],
   "source": [
    "#c. Which of the following words is the longest:Supercalifragilisticexpialidocious, Honorificabilitudinitatibus, or Bababadalgharaghtakamminarronnkonn? \n",
    "\n",
    "a= \"Supercalifragilisticexpialidocious\"\n",
    "b= \"Honorificabilitudinitatibus\"\n",
    "c= \"Bababadalgharaghtakamminarronnkonn\"\n",
    "\n",
    "if len(a)>len(b) and len(c):\n",
    "    print(\"Supercalifragilisticexpialidocious is the longest word\")\n",
    "elif len(b)>len(a) and len(c):\n",
    "    print(\"Honorificabilitudinitatibus is the longest word \")\n",
    "elif len(c)>len(a) and len(b):\n",
    "    print(\"Bababadalgharaghtakamminarronnkonn is the longest word \")"
   ]
  },
  {
   "cell_type": "code",
   "execution_count": 29,
   "id": "39a4be0b",
   "metadata": {},
   "outputs": [
    {
     "name": "stdout",
     "output_type": "stream",
     "text": [
      "['Bartok', 'Bellini', 'Berlioz', 'Bernstein', 'Borodin', 'Brian', 'Buxtehude']\n",
      "First composer =  Bartok\n",
      "Last composer =  Buxtehude\n"
     ]
    }
   ],
   "source": [
    "#d. Which composer comes first in the dictionary: 'Berlioz', 'Borodin', 'Brian','Bartok', 'Bellini', 'Buxtehude', 'Bernstein'. Which one comes last?\n",
    "\n",
    "list =['Berlioz', 'Borodin', 'Brian','Bartok', 'Bellini', 'Buxtehude', 'Bernstein']\n",
    "sorted_list = sorted(list)\n",
    "print(sorted_list)\n",
    "print( \"First composer = \", sorted_list[0])\n",
    "print( \"Last composer = \",sorted_list[-1])"
   ]
  },
  {
   "cell_type": "markdown",
   "id": "bdb28eac",
   "metadata": {},
   "source": [
    "## Question 3\n",
    "Implement function triangleArea(a,b,c) that takes as input the lengths of the 3\n",
    "sides of a triangle and returns the area of the triangle. By Heron's formula, the area\n",
    "of a triangle with side lengths a, b, and c is\n",
    "s(s - a)(s -b)(s -c)\n",
    ", where\n",
    "s = (a+b+c)/2.\n"
   ]
  },
  {
   "cell_type": "code",
   "execution_count": 31,
   "id": "f679063f",
   "metadata": {},
   "outputs": [
    {
     "name": "stdout",
     "output_type": "stream",
     "text": [
      "side 1: 2\n",
      "side 2: 2\n",
      "side 3: 2\n",
      "Area of the triangle is 1.7320508075688772\n"
     ]
    }
   ],
   "source": [
    "a = float(input(\"side 1: \"))\n",
    "b = float(input(\"side 2: \"))\n",
    "c = float(input(\"side 3: \"))\n",
    "def triangleArea(a,b,c):\n",
    "    s = (a+b+c)/2\n",
    "    Area = (s*(s - a)*(s -b)*(s -c))**0.5\n",
    "    print(\"Area of the triangle is\", Area)\n",
    "triangleArea(a,b,c)\n"
   ]
  },
  {
   "cell_type": "markdown",
   "id": "b0cc033c",
   "metadata": {},
   "source": [
    "## Question 4 \n",
    "Write a program in python to separate odd and even integers in separate arrays. Go to the editor"
   ]
  },
  {
   "cell_type": "code",
   "execution_count": 19,
   "id": "6b365925",
   "metadata": {},
   "outputs": [
    {
     "name": "stdout",
     "output_type": "stream",
     "text": [
      "Please enter the number of integers :5\n",
      "integer - 0 : 25\n",
      "integer - 1 : 47\n",
      "integer - 2 : 42\n",
      "integer - 3 : 56\n",
      "integer - 4 : 32\n",
      "Even numbers: [42, 56, 32]\n",
      "Odd numbers: [25, 47]\n"
     ]
    }
   ],
   "source": [
    "list = int(input(\"Please enter the number of integers :\"))\n",
    "#creating empty lists for odd and even integers\n",
    "odd_integers = []\n",
    "even_integers = []\n",
    "\n",
    "for i in range(list):\n",
    "    point = int(input(\"integer - {} : \" .format(i)))\n",
    "    if point % 2 == 0:\n",
    "        even_integers.append(point)                #to add elements to the even int list\n",
    "    else:\n",
    "        odd_integers.append(point)                 #to add elements to the odd int list\n",
    "        \n",
    "print(\"Even numbers:\",even_integers)\n",
    "print(\"Odd numbers:\",odd_integers)\n"
   ]
  },
  {
   "cell_type": "markdown",
   "id": "078319e0",
   "metadata": {},
   "source": [
    "## Question 5\n"
   ]
  },
  {
   "cell_type": "code",
   "execution_count": 5,
   "id": "67e9871d",
   "metadata": {},
   "outputs": [],
   "source": [
    "# a. Write a function inside(x,y,x1,y1,x2,y2) that returns True or False depending on whether the point (x,y) lies in the \n",
    "#rectangle with lower left corner (x1,y1) and upper right corner (x2,y2).\n",
    "\n",
    "def inside(x,y,x1,y1,x2,y2):\n",
    "    if x1< x <x2 and y1 < y < y2:\n",
    "        print('True')\n",
    "    else:\n",
    "        print('False')"
   ]
  },
  {
   "cell_type": "code",
   "execution_count": 3,
   "id": "30b629cd",
   "metadata": {},
   "outputs": [
    {
     "name": "stdout",
     "output_type": "stream",
     "text": [
      "True\n"
     ]
    }
   ],
   "source": [
    "inside(1,1,0,0,2,3)"
   ]
  },
  {
   "cell_type": "code",
   "execution_count": 4,
   "id": "2ecb0603",
   "metadata": {},
   "outputs": [
    {
     "name": "stdout",
     "output_type": "stream",
     "text": [
      "False\n"
     ]
    }
   ],
   "source": [
    "inside(-1,-1,0,0,2,3)"
   ]
  },
  {
   "cell_type": "code",
   "execution_count": 12,
   "id": "0e1fea73",
   "metadata": {},
   "outputs": [
    {
     "name": "stdout",
     "output_type": "stream",
     "text": [
      "False\n",
      "True\n",
      "The point does not lie in both the rectangles\n"
     ]
    }
   ],
   "source": [
    "#b. Use function inside() from part a. to write an expression that tests whether the point (1,1) lies in both of the following rectangles: one with lower left\n",
    "#corner (0.3, 0.5) and upper right corner (1.1, 0.7) and the other with lower left corner (0.5, 0.2) and upper right corner (1.1, 2). \n",
    "\n",
    "x = 1\n",
    "y = 1\n",
    "x11, y11 = 0.3, 0.5\n",
    "x12, y12 = 1.1, 0.7\n",
    "x21, y21 = 0.5, 0.2\n",
    "x22, y22 = 1.1, 2\n",
    "a = inside(x,y,x11,y11,x12,y12)\n",
    "b= inside(x,y,x21,y21,x22,y22)\n",
    "if a and b:\n",
    "    print(\"The point lies in both the rectangles\" )\n",
    "else:\n",
    "    print(\"The point does not lie in both the rectangles\")\n",
    "\n"
   ]
  },
  {
   "cell_type": "markdown",
   "id": "8e20972b",
   "metadata": {},
   "source": [
    "## Question 6\n",
    "#16. You can turn a word into pig-Latin using the following two rules (simplified):\n",
    "• If the word starts with a consonant, move that letter to the end and append\n",
    "'ay'. For example, 'happy' becomes 'appyhay' and 'pencil' becomes 'encilpay'.\n",
    "• If the word starts with a vowel, simply append 'way' to the end of the word.\n",
    "For example, 'enter' becomes 'enterway' and 'other' becomes 'otherway' . For\n",
    "our purposes, there are 5 vowels: a, e, i, o, u (so we count y as a consonant).\n",
    "Write a function pig() that takes a word (i.e., a string) as input and returns its pigLatin form. Your function should still work if the input word contains upper case\n",
    "characters."
   ]
  },
  {
   "cell_type": "code",
   "execution_count": 13,
   "id": "3e1a21c3",
   "metadata": {},
   "outputs": [
    {
     "name": "stdout",
     "output_type": "stream",
     "text": [
      "Please enter the word:happy\n",
      "appyhay\n",
      "Please enter the word:enter\n",
      "enterway\n"
     ]
    }
   ],
   "source": [
    "\n",
    "vowels = ['a','e','i','0','u']\n",
    "def pig():\n",
    "    word = str(input(\"Please enter the word:\"))\n",
    "    if word[0].lower() in vowels:      #converting each letter from the word in lowercase\n",
    "        print(word.lower() + 'way')\n",
    "    else:\n",
    "        print(word[1:].lower() + word[0].lower() + 'ay')\n",
    "pig()\n",
    "pig()\n"
   ]
  },
  {
   "cell_type": "markdown",
   "id": "51e4db92",
   "metadata": {},
   "source": [
    "## Question 7\n",
    "\n",
    "File bloodtype1.txt records blood-types of patients (A, B, AB, O or OO) at a clinic.\n",
    "Write a function bldcount() that reads the file with name name and reports (i.e.,\n",
    "prints) how many patients there are in each bloodtype."
   ]
  },
  {
   "cell_type": "code",
   "execution_count": 11,
   "id": "135c669d",
   "metadata": {},
   "outputs": [
    {
     "name": "stdout",
     "output_type": "stream",
     "text": [
      "There are 15 patients of blood type A.\n",
      "There is one patient of blood type B.\n",
      "There are 13 patients of blood type AB.\n",
      "There are 15 patients of blood type O.\n",
      "There are no patients of blood type OO.\n"
     ]
    }
   ],
   "source": [
    "def bldcount(name):          #defining the function\n",
    "    file1=open(name, 'r')    #opening the file \n",
    "    data= file1.read()\n",
    "    file1.close()\n",
    "    data=data.split()        #to split the string into a list\n",
    "    bloodtype = ['A','B','AB','O','OO']\n",
    "    for i in bloodtype:      #to print no. for patients with the specific blood type from the list\n",
    "        if data.count(i)==0:\n",
    "            print('There are no patients of blood type',i+'.')\n",
    "        elif data.count(i)==1:\n",
    "            print('There is one patient of blood type',i+'.')\n",
    "        else:\n",
    "            print('There are',data.count(i),'patients of blood type', i+'.')\n",
    "bldcount('C:/Users/prana/OneDrive/Documents/bloodtype1.txt')"
   ]
  },
  {
   "cell_type": "markdown",
   "id": "1356e5e2",
   "metadata": {},
   "source": [
    "## Question 8\n",
    "Write a function curconv() that takes as input:\n",
    "1. a currency represented using a string (e.g., 'JPY' for the Japanese Yen or\n",
    "'EUR' for the Euro)\n",
    "2. an amount\n",
    "and then converts and returns the amount in US dollars."
   ]
  },
  {
   "cell_type": "code",
   "execution_count": 21,
   "id": "7bbd5534",
   "metadata": {},
   "outputs": [],
   "source": [
    "def curconv(curr, amount):\n",
    "    document= open('C:/Users/prana/OneDrive/Documents/currencies.txt', 'r')\n",
    "    doc_info = document.readlines()\n",
    "    document.close()\n",
    "    for lines in doc_info:\n",
    "        if curr == lines.split()[0]:\n",
    "            return float(lines.split()[1])*amount\n",
    "\n"
   ]
  },
  {
   "cell_type": "code",
   "execution_count": 22,
   "id": "fb9b2ecb",
   "metadata": {},
   "outputs": [
    {
     "data": {
      "text/plain": [
       "1.241401"
      ]
     },
     "execution_count": 22,
     "metadata": {},
     "output_type": "execute_result"
    }
   ],
   "source": [
    "curconv ('JPY',100)"
   ]
  },
  {
   "cell_type": "code",
   "execution_count": 23,
   "id": "2da9c961",
   "metadata": {},
   "outputs": [
    {
     "data": {
      "text/plain": [
       "122.96544"
      ]
     },
     "execution_count": 23,
     "metadata": {},
     "output_type": "execute_result"
    }
   ],
   "source": [
    "curconv ('EUR',100)"
   ]
  },
  {
   "cell_type": "markdown",
   "id": "7d79e63a",
   "metadata": {},
   "source": [
    "## Question 9\n",
    "Each of the following will cause an exception (an error). Identify what type of\n",
    "exception each will cause.\n"
   ]
  },
  {
   "cell_type": "code",
   "execution_count": 24,
   "id": "6070d48c",
   "metadata": {},
   "outputs": [
    {
     "name": "stdout",
     "output_type": "stream",
     "text": [
      "Error in 1 is:  unsupported operand type(s) for +: 'int' and 'str'\n",
      "Error in 2 is:  list index out of range\n",
      "Error in 3 is:  math domain error\n",
      "Error in 4 is:  name 'x' is not defined\n",
      "Error in 5 is:  [Errno 2] No such file or directory: 'currencies.txt'\n"
     ]
    }
   ],
   "source": [
    "try:\n",
    "    a = 6 + 'a'\n",
    "except Exception as error:\n",
    "    print(\"Error in 1 is: \" ,error)\n",
    "    \n",
    "try:\n",
    "    b = [1,2,3,4,5,6,7,8,9,10];\n",
    "    print(b[12])\n",
    "except Exception as error:\n",
    "    print(\"Error in 2 is: \" ,error)\n",
    "    \n",
    "try:\n",
    "    import math\n",
    "    print(math.sqrt(-1))\n",
    "except Exception as error:\n",
    "    print(\"Error in 3 is: \" ,error)\n",
    "    \n",
    "try:\n",
    "    print(x)\n",
    "except Exception as error:\n",
    "    print(\"Error in 4 is: \", error)\n",
    "    \n",
    "try:\n",
    "    infile=open('currencies.txt')\n",
    "    info= infile.read()\n",
    "except Exception as error:\n",
    "    print(\"Error in 5 is: \", error)\n",
    "\n"
   ]
  },
  {
   "cell_type": "markdown",
   "id": "5df5b8e4",
   "metadata": {},
   "source": [
    "## Question 10\n",
    "Write a function called frequencies() that takes a string as its only parameter, and returns a list of integers, showing the\n",
    "number of times each character appears in the text. Your function may ignore any characters that are not in letters. "
   ]
  },
  {
   "cell_type": "code",
   "execution_count": 6,
   "id": "ef745424",
   "metadata": {},
   "outputs": [],
   "source": [
    "letters = 'abcdefghijklmnopqrstuvwxyz'\n",
    "elements = list(letters)                     #to create list of elements from the string above\n",
    "def frequencies(string):\n",
    "    result=[]    \n",
    "    if (type(string)==str):      \n",
    "        updated_str = string.replace(' ','') #to remove the spaces in the sentence\n",
    "        str_list = list(updated_str)        \n",
    "        for char in elements:\n",
    "            freq = str_list.count(char)   #to calculate frequency of each letter\n",
    "            result.append(freq)            #to create list of frequencies\n",
    "        print(result)    \n",
    "    else:\n",
    "        print(\"Error: Please only enter a string.\")"
   ]
  },
  {
   "cell_type": "code",
   "execution_count": 7,
   "id": "5d27c4f4",
   "metadata": {},
   "outputs": [
    {
     "name": "stdout",
     "output_type": "stream",
     "text": [
      "[1, 1, 1, 3, 5, 1, 1, 2, 1, 0, 1, 0, 1, 2, 4, 0, 1, 2, 0, 2, 1, 0, 1, 1, 0, 0]\n"
     ]
    }
   ],
   "source": [
    "frequencies('The quick red fox got bored and went home.')"
   ]
  },
  {
   "cell_type": "code",
   "execution_count": 8,
   "id": "e39cf966",
   "metadata": {},
   "outputs": [
    {
     "name": "stdout",
     "output_type": "stream",
     "text": [
      "[1, 0, 0, 0, 1, 0, 0, 0, 0, 0, 0, 1, 0, 0, 0, 2, 0, 0, 0, 0, 0, 0, 0, 0, 0, 0]\n"
     ]
    }
   ],
   "source": [
    "frequencies('apple')"
   ]
  },
  {
   "cell_type": "code",
   "execution_count": null,
   "id": "d7ae0fbe",
   "metadata": {},
   "outputs": [],
   "source": []
  }
 ],
 "metadata": {
  "kernelspec": {
   "display_name": "Python 3 (ipykernel)",
   "language": "python",
   "name": "python3"
  },
  "language_info": {
   "codemirror_mode": {
    "name": "ipython",
    "version": 3
   },
   "file_extension": ".py",
   "mimetype": "text/x-python",
   "name": "python",
   "nbconvert_exporter": "python",
   "pygments_lexer": "ipython3",
   "version": "3.9.13"
  }
 },
 "nbformat": 4,
 "nbformat_minor": 5
}
